{
 "cells": [
  {
   "cell_type": "markdown",
   "id": "93fe9538",
   "metadata": {},
   "source": [
    "# Storing EDGAR fluxes\n",
    "\n",
    "EDGAR fluxes for SF6 weren't available, so I added them to an object store.\n",
    "Since I didn't want to deal with xesmf, I added some custom code to do this."
   ]
  },
  {
   "cell_type": "code",
   "execution_count": null,
   "id": "6f8e34de",
   "metadata": {},
   "outputs": [],
   "source": [
    "from pathlib import Path\n",
    "import openghg\n",
    "\n",
    "import numpy as np\n",
    "import pandas as pd\n",
    "import xarray as xr\n",
    "import matplotlib.pyplot as plt\n",
    "\n",
    "from openghg.retrieve import get_flux, search_flux\n",
    "\n",
    "from inversions.regridding import regrid_2d, transform_edgar_flux_file\n",
    "from inversions.utils import ls"
   ]
  },
  {
   "cell_type": "code",
   "execution_count": null,
   "id": "9e3a99ce",
   "metadata": {},
   "outputs": [],
   "source": [
    "flux_res = search_flux(species=\"sf6\", domain=\"europe\")"
   ]
  },
  {
   "cell_type": "code",
   "execution_count": null,
   "id": "664babfe",
   "metadata": {},
   "outputs": [],
   "source": [
    "flux_res"
   ]
  },
  {
   "cell_type": "code",
   "execution_count": null,
   "id": "04c118b7",
   "metadata": {},
   "outputs": [],
   "source": [
    "flux_path = Path(\"/group/chem/acrg/Gridded_fluxes/SF6/EDGAR_v8.0/\")\n",
    "flux_path_yearly = flux_path / \"yearly\"\n",
    "flux_path_yearly_sectoral = flux_path / \"yearly_sectoral\"\n",
    "\n",
    "!ls {flux_path_yearly} | head"
   ]
  },
  {
   "cell_type": "code",
   "execution_count": null,
   "id": "fe4ad0a1",
   "metadata": {},
   "outputs": [],
   "source": [
    "!ls {flux_path_yearly_sectoral}"
   ]
  },
  {
   "cell_type": "markdown",
   "id": "d8bbb147",
   "metadata": {},
   "source": [
    "It seems these fluxes aren't stored anywhere, so we'll have create a store..."
   ]
  },
  {
   "cell_type": "code",
   "execution_count": null,
   "id": "ba6de8b8",
   "metadata": {},
   "outputs": [],
   "source": [
    "stores_path = Path(\"/group/chem/acrg/object_stores/\")\n",
    "!ls {stores_path}/paris"
   ]
  },
  {
   "cell_type": "code",
   "execution_count": null,
   "id": "5d5806c4",
   "metadata": {},
   "outputs": [],
   "source": [
    "from pprint import pprint\n",
    "from openghg.objectstore import get_readable_buckets\n",
    "pprint(get_readable_buckets())"
   ]
  },
  {
   "cell_type": "markdown",
   "id": "ce4f6421",
   "metadata": {},
   "source": [
    "Maybe I can just look at the raw files first..."
   ]
  },
  {
   "cell_type": "markdown",
   "id": "42e3aab2",
   "metadata": {},
   "source": [
    "## EDGAR fluxes for SF6"
   ]
  },
  {
   "cell_type": "code",
   "execution_count": null,
   "id": "bb18dcfe",
   "metadata": {},
   "outputs": [],
   "source": [
    "yearly_files = ls(flux_path_yearly)\n",
    "yearly_files[-10:]"
   ]
  },
  {
   "cell_type": "code",
   "execution_count": null,
   "id": "b5a31fc1",
   "metadata": {},
   "outputs": [],
   "source": [
    "ed2022 = xr.open_dataset(flux_path_yearly / yearly_files[-1])"
   ]
  },
  {
   "cell_type": "code",
   "execution_count": null,
   "id": "2ac8c36a",
   "metadata": {},
   "outputs": [],
   "source": [
    "ed2022"
   ]
  },
  {
   "cell_type": "code",
   "execution_count": null,
   "id": "8b03f753",
   "metadata": {},
   "outputs": [],
   "source": [
    "from openghg.util import find_domain\n",
    "lat, lon = find_domain(\"europe\")"
   ]
  },
  {
   "cell_type": "code",
   "execution_count": null,
   "id": "346faf8d",
   "metadata": {},
   "outputs": [],
   "source": [
    "lat_slice = slice(lat.min(), lat.max())\n",
    "lon_slice = slice(lon.min(), lon.max())\n",
    "np.log(ed2022.fluxes.sel(lat=lat_slice, lon=lon_slice)).plot()"
   ]
  },
  {
   "cell_type": "markdown",
   "id": "475a547c",
   "metadata": {},
   "source": [
    "Looks okay... let's zoom in on Europe"
   ]
  },
  {
   "cell_type": "code",
   "execution_count": null,
   "id": "703699aa",
   "metadata": {
    "lines_to_next_cell": 2
   },
   "outputs": [],
   "source": [
    "np.log(ed2022.fluxes.sel(lat=slice(35, 60), lon=slice(-15, 20))).plot()"
   ]
  },
  {
   "cell_type": "code",
   "execution_count": null,
   "id": "6870c254",
   "metadata": {},
   "outputs": [],
   "source": [
    "ed2022_regridded = regrid_2d(ed2022, in_data_var=\"fluxes\").rename(fluxes=\"flux\")"
   ]
  },
  {
   "cell_type": "code",
   "execution_count": null,
   "id": "88abb2a2",
   "metadata": {},
   "outputs": [],
   "source": [
    "ed2022_regridded"
   ]
  },
  {
   "cell_type": "code",
   "execution_count": null,
   "id": "748f73f3",
   "metadata": {},
   "outputs": [],
   "source": [
    "np.log(ed2022_regridded.flux).plot()\n",
    "\n",
    "\n"
   ]
  },
  {
   "cell_type": "code",
   "execution_count": null,
   "id": "04794edc",
   "metadata": {},
   "outputs": [],
   "source": [
    "flux2022 = transform_edgar_flux_file(flux_path_yearly / yearly_files[-1], \"europe\")"
   ]
  },
  {
   "cell_type": "code",
   "execution_count": null,
   "id": "c92d333e",
   "metadata": {},
   "outputs": [],
   "source": [
    "flux2022.flux.pint.quantify().max().compute()"
   ]
  },
  {
   "cell_type": "markdown",
   "id": "43478170",
   "metadata": {},
   "source": [
    "# Making synthetic data from EDGAR fluxes\n",
    "\n",
    "## Storing EDGAR total fluxes for SF6\n",
    "We probably want to store the fluxes in an object store, since we'll need to compare with them later."
   ]
  },
  {
   "cell_type": "code",
   "execution_count": null,
   "id": "7a12135c",
   "metadata": {},
   "outputs": [],
   "source": [
    "!ls /group/chem/acrg/object_stores/paris"
   ]
  },
  {
   "cell_type": "code",
   "execution_count": null,
   "id": "3d9ea522",
   "metadata": {},
   "outputs": [],
   "source": [
    "!cat /user/home/bm13805/.openghg/openghg.conf"
   ]
  },
  {
   "cell_type": "code",
   "execution_count": null,
   "id": "740b4a9c",
   "metadata": {},
   "outputs": [],
   "source": [
    "from openghg.util._user import _add_path_to_config\n",
    "\n",
    "_add_path_to_config(\"group/chem/acrg/object_stores/paris/sf6_testing_store\", name=\"sf6_testing_store\")"
   ]
  },
  {
   "cell_type": "code",
   "execution_count": null,
   "id": "3f68dd0d",
   "metadata": {},
   "outputs": [],
   "source": [
    "from openghg.standardise import standardise_flux"
   ]
  },
  {
   "cell_type": "code",
   "execution_count": null,
   "id": "cd3dcb1f",
   "metadata": {},
   "outputs": [],
   "source": [
    "standardise_flux?"
   ]
  },
  {
   "cell_type": "markdown",
   "id": "3fb7180d",
   "metadata": {},
   "source": [
    "Let's get the flux data regridded and keep it in memory, since we'll need it to make the synthetic obs."
   ]
  },
  {
   "cell_type": "code",
   "execution_count": null,
   "id": "fd8b6599",
   "metadata": {},
   "outputs": [],
   "source": [
    "fluxes = [transform_edgar_flux_file(flux_path_yearly / yf, domain=\"europe\", species=\"sf6\") for yf in yearly_files[-10:]]"
   ]
  },
  {
   "cell_type": "code",
   "execution_count": null,
   "id": "04417ecd",
   "metadata": {},
   "outputs": [],
   "source": [
    "flux_ds = xr.concat(fluxes, dim=\"time\")"
   ]
  },
  {
   "cell_type": "code",
   "execution_count": null,
   "id": "5ee8981c",
   "metadata": {},
   "outputs": [],
   "source": [
    "flux_ds.flux.max().compute()"
   ]
  },
  {
   "cell_type": "code",
   "execution_count": null,
   "id": "b714bcac",
   "metadata": {},
   "outputs": [],
   "source": [
    "import tempfile\n",
    "\n",
    "with tempfile.NamedTemporaryFile() as f:\n",
    "    flux_ds.to_netcdf(f, engine=\"h5netcdf\")\n",
    "    standardise_flux(f.name,\n",
    "                     domain=\"europe\", \n",
    "                     source=\"edgar-annual-total\", \n",
    "                     species=\"sf6\", \n",
    "                     database=\"edgar\", \n",
    "                     database_version=\"v8.0\", \n",
    "                     period=\"yearly\", \n",
    "                     if_exists=\"new\",\n",
    "                     store=\"sf6_testing_store\")"
   ]
  },
  {
   "cell_type": "code",
   "execution_count": null,
   "id": "40226a9e",
   "metadata": {},
   "outputs": [],
   "source": [
    "flux_res = search_flux(species=\"sf6\", domain=\"europe\")"
   ]
  },
  {
   "cell_type": "code",
   "execution_count": null,
   "id": "e207aa29",
   "metadata": {},
   "outputs": [],
   "source": [
    "flux_res"
   ]
  }
 ],
 "metadata": {
  "kernelspec": {
   "display_name": "Python 3 (ipykernel)",
   "language": "python",
   "name": "python3"
  }
 },
 "nbformat": 4,
 "nbformat_minor": 5
}
